{
 "cells": [
  {
   "cell_type": "code",
   "execution_count": null,
   "metadata": {
    "pycharm": {
     "name": "#%%\n"
    }
   },
   "outputs": [],
   "source": [
    "%matplotlib inline\n",
    "# %matplotlib widget\n",
    "# %matplotlib notebook"
   ]
  },
  {
   "cell_type": "code",
   "execution_count": null,
   "metadata": {
    "pycharm": {
     "name": "#%%\n"
    }
   },
   "outputs": [],
   "source": [
    "%load_ext autoreload\n",
    "%autoreload 2"
   ]
  },
  {
   "cell_type": "code",
   "execution_count": null,
   "metadata": {
    "pycharm": {
     "name": "#%%\n"
    }
   },
   "outputs": [],
   "source": [
    "import networkx as nx\n",
    "import pandas as pd"
   ]
  },
  {
   "cell_type": "code",
   "execution_count": null,
   "metadata": {
    "pycharm": {
     "name": "#%%\n"
    }
   },
   "outputs": [],
   "source": [
    "import matplotlib.pyplot as plt"
   ]
  },
  {
   "cell_type": "code",
   "execution_count": null,
   "metadata": {
    "pycharm": {
     "name": "#%%\n"
    }
   },
   "outputs": [],
   "source": [
    "import kainit\n",
    "import kamix\n",
    "import kamol\n",
    "import kaparam\n",
    "import kareact\n",
    "import kasig\n",
    "import kasim\n",
    "import kasystem\n",
    "import kaheap\n",
    "import kamatch\n",
    "import kaviz\n",
    "import kasnap\n",
    "import kagraph\n",
    "import kaplot"
   ]
  },
  {
   "cell_type": "markdown",
   "metadata": {
    "pycharm": {
     "name": "#%% md\n"
    }
   },
   "source": [
    "### utilities"
   ]
  },
  {
   "cell_type": "code",
   "execution_count": null,
   "outputs": [],
   "source": [
    "def Molecules2Mol(n, V):\n",
    "    return n / (6.02214e+23 * V)"
   ],
   "metadata": {
    "collapsed": false,
    "pycharm": {
     "name": "#%%\n"
    }
   }
  },
  {
   "cell_type": "code",
   "execution_count": null,
   "outputs": [],
   "source": [
    "def Mol2Molecules(m, V):\n",
    "    return m * 6.02214e+23 * V"
   ],
   "metadata": {
    "collapsed": false,
    "pycharm": {
     "name": "#%%\n"
    }
   }
  },
  {
   "cell_type": "code",
   "execution_count": null,
   "outputs": [],
   "source": [
    "Molecules2Mol(1000, 4.2E-14)"
   ],
   "metadata": {
    "collapsed": false,
    "pycharm": {
     "name": "#%%\n"
    }
   }
  },
  {
   "cell_type": "code",
   "execution_count": null,
   "outputs": [],
   "source": [],
   "metadata": {
    "collapsed": false,
    "pycharm": {
     "name": "#%%\n"
    }
   }
  },
  {
   "cell_type": "markdown",
   "source": [
    "## kaviz and kagraph"
   ],
   "metadata": {
    "collapsed": false,
    "pycharm": {
     "name": "#%% md\n"
    }
   }
  },
  {
   "cell_type": "code",
   "execution_count": null,
   "outputs": [],
   "source": [
    "snap = kasnap.SnapShot(file='TestOutput/snap.ka', canon=False)"
   ],
   "metadata": {
    "collapsed": false,
    "pycharm": {
     "name": "#%%\n"
    }
   }
  },
  {
   "cell_type": "code",
   "execution_count": null,
   "outputs": [],
   "source": [
    "import time\n",
    "for m in snap.complexes:\n",
    "    print(m.show(label=True))\n",
    "    r = kaviz.Renderer(m)\n",
    "    r.render(node_size=200)\n",
    "    plt.show()"
   ],
   "metadata": {
    "collapsed": false,
    "pycharm": {
     "name": "#%%\n"
    }
   }
  },
  {
   "cell_type": "code",
   "execution_count": 16,
   "metadata": {
    "pycharm": {
     "name": "#%%\n"
    },
    "scrolled": true
   },
   "outputs": [
    {
     "name": "stdout",
     "output_type": "stream",
     "text": [
      "A(l[1] r[2]), A(l[3] r[1]), A(l[2] r[4]), A(l[5] r[3]), A(l[4] r[6]), A(l[7] r[5]), A(l[6] r[8]), A(l[9] r[7]), A(l[8] r[10]), A(l[11] r[9]), A(l[10] r[12]), A(l[13] r[11]), A(l[12] r[14]), A(l[15] r[13]), A(l[14] r[16]), A(l[17] r[15]), A(l[16] r[18]), A(l[19] r[17]), A(l[18] r[.]), A(l[20] r[19]), A(l[21] r[20]), A(l[22] r[21]), A(l[23] r[22]), A(l[24] r[23]), A(l[25] r[24]), A(l[26] r[25]), A(l[27] r[26]), A(l[28] r[27]), A(l[29] r[28]), A(l[30] r[29]), A(l[31] r[30]), A(l[32] r[31]), A(l[33] r[32]), A(l[34] r[33]), A(l[35] r[34]), A(l[36] r[35]), A(l[37] r[36]), A(l[38] r[37]), A(l[39] r[38]), A(l[40] r[39]), A(l[41] r[40]), A(l[42] r[41]), A(l[43] r[42]), A(l[44] r[43]), A(l[45] r[44]), A(l[46] r[45]), A(l[47] r[46]), A(l[.] r[47])\n"
     ]
    },
    {
     "data": {
      "text/plain": "<Figure size 432x432 with 1 Axes>",
      "image/png": "[encoded data removed]"
     },
     "metadata": {},
     "output_type": "display_data"
    }
   ],
   "source": [
    "molecule = 'A(l[1] r[2]), A(l[3] r[1]), A(l[2] r[4]), A(l[5] r[3]), A(l[4] r[6]), A(l[7] r[5]), A(l[6] r[8]), A(l[9] r[7]), A(l[8] r[10]), A(l[11] r[9]), A(l[10] r[12]), A(l[13] r[11]), A(l[12] r[14]), A(l[15] r[13]), A(l[14] r[16]), A(l[17] r[15]), A(l[16] r[18]), A(l[19] r[17]), A(l[18] r[.]), A(l[20] r[19]), A(l[21] r[20]), A(l[22] r[21]), A(l[23] r[22]), A(l[24] r[23]), A(l[25] r[24]), A(l[26] r[25]), A(l[27] r[26]), A(l[28] r[27]), A(l[29] r[28]), A(l[30] r[29]), A(l[31] r[30]), A(l[32] r[31]), A(l[33] r[32]), A(l[34] r[33]), A(l[35] r[34]), A(l[36] r[35]), A(l[37] r[36]), A(l[38] r[37]), A(l[39] r[38]), A(l[40] r[39]), A(l[41] r[40]), A(l[42] r[41]), A(l[43] r[42]), A(l[44] r[43]), A(l[45] r[44]), A(l[46] r[45]), A(l[47] r[46]), A(l[.] r[47])'\n",
    "c = kamol.KappaComplex(molecule, canon=False)\n",
    "print(c.show())\n",
    "r = kaviz.Renderer(c)\n",
    "r.render(node_size=200)"
   ]
  },
  {
   "cell_type": "code",
   "execution_count": null,
   "metadata": {
    "pycharm": {
     "name": "#%%\n"
    },
    "scrolled": true
   },
   "outputs": [],
   "source": [
    "data_dir='../KappaUtilities/TestData/'\n",
    "mix = kasnap.SnapShot(data_dir + 'snap_large.ka')"
   ]
  },
  {
   "cell_type": "code",
   "execution_count": null,
   "metadata": {
    "pycharm": {
     "name": "#%%\n"
    }
   },
   "outputs": [],
   "source": [
    "data_dir='../SiteSim/TestData/'\n",
    "mix = kasnap.SnapShot(data_dir + 'snap__big.ka')"
   ]
  },
  {
   "cell_type": "code",
   "execution_count": null,
   "metadata": {
    "pycharm": {
     "name": "#%%\n"
    },
    "scrolled": true
   },
   "outputs": [],
   "source": [
    "data = mix.complexes[0].kappa_expression()"
   ]
  },
  {
   "cell_type": "code",
   "execution_count": null,
   "metadata": {
    "pycharm": {
     "name": "#%%\n"
    }
   },
   "outputs": [],
   "source": [
    "mix.complexes[0].size"
   ]
  },
  {
   "cell_type": "code",
   "execution_count": null,
   "metadata": {
    "pycharm": {
     "name": "#%%\n"
    },
    "scrolled": false
   },
   "outputs": [],
   "source": [
    "c = kamol.KappaComplex(data)\n",
    "r = kaviz.Renderer(c)\n",
    "#r.render(node_size=10, labels='no')\n",
    "r.render(node_size=150, legend=True)"
   ]
  },
  {
   "cell_type": "code",
   "execution_count": null,
   "metadata": {
    "pycharm": {
     "name": "#%%\n"
    },
    "scrolled": true
   },
   "outputs": [],
   "source": [
    "x1 = kamol.KappaComplex(data)"
   ]
  },
  {
   "cell_type": "code",
   "execution_count": null,
   "metadata": {
    "pycharm": {
     "name": "#%%\n"
    }
   },
   "outputs": [],
   "source": [
    "x1.canonical"
   ]
  },
  {
   "cell_type": "code",
   "execution_count": null,
   "metadata": {
    "pycharm": {
     "name": "#%%\n"
    }
   },
   "outputs": [],
   "source": [
    "kappa = kamol.Kappa()"
   ]
  },
  {
   "cell_type": "code",
   "execution_count": null,
   "metadata": {
    "pycharm": {
     "name": "#%%\n"
    },
    "scrolled": false
   },
   "outputs": [],
   "source": [
    "data2 = kappa.decode(x1.canonical, x1.system_views)"
   ]
  },
  {
   "cell_type": "code",
   "execution_count": null,
   "metadata": {
    "pycharm": {
     "name": "#%%\n"
    }
   },
   "outputs": [],
   "source": [
    "c2 = kamol.KappaComplex(data2)\n",
    "r2 = kaviz.Renderer(c2)\n",
    "r2.render(node_size=150, legend=True)"
   ]
  },
  {
   "cell_type": "code",
   "execution_count": null,
   "metadata": {
    "pycharm": {
     "name": "#%%\n"
    }
   },
   "outputs": [],
   "source": [
    "SGM = kamatch.SiteGraphMatcher()"
   ]
  },
  {
   "cell_type": "code",
   "execution_count": null,
   "metadata": {
    "pycharm": {
     "name": "#%%\n"
    }
   },
   "outputs": [],
   "source": [
    "SGM.isomorphic(x1, c2)"
   ]
  },
  {
   "cell_type": "code",
   "execution_count": null,
   "metadata": {
    "pycharm": {
     "name": "#%%\n"
    }
   },
   "outputs": [],
   "source": [
    "data = 'A(a1[1] a2[2] a3[3] c[8]), A(a1[1] a2[2] a3[3] c[4]) A(a1[5] a2[6] a3[7] c[4]), A(a1[5] a2[6] a3[7] c[8])'"
   ]
  },
  {
   "cell_type": "code",
   "execution_count": null,
   "metadata": {
    "pycharm": {
     "name": "#%%\n"
    }
   },
   "outputs": [],
   "source": [
    "g1 = kamol.KappaComplex(data)\n",
    "data_ = kappa.decode(g1.canonical, g1.system_views)\n",
    "print(g1.canonical)\n",
    "print(data_)\n",
    "g2 = kamol.KappaComplex(data_)\n",
    "print(SGM.isomorphic(g1, g2))"
   ]
  },
  {
   "cell_type": "code",
   "execution_count": null,
   "metadata": {
    "pycharm": {
     "name": "#%%\n"
    },
    "scrolled": false
   },
   "outputs": [],
   "source": [
    "data_dir='../SiteSim/TestData/'\n",
    "mix = kasnap.SnapShot(data_dir + 'snap__1780.ka')\n",
    "\n",
    "for m in mix.complexes:\n",
    "    data = m.kappa_expression()\n",
    "    g1 = kamol.KappaComplex(data, nav=True)\n",
    "    g2 = kamol.KappaComplex(kappa.decode(g1.canonical, g1.system_views), nav=True)\n",
    "    if not SGM.isomorphic(g1, g2):\n",
    "        print(\"False\")\n",
    "        bad = m\n",
    "        break\n",
    "    else:\n",
    "        print(f'size: {m.size} iso: True!')"
   ]
  },
  {
   "cell_type": "code",
   "execution_count": null,
   "metadata": {
    "pycharm": {
     "name": "#%%\n"
    }
   },
   "outputs": [],
   "source": [
    "kappa_ring = 'A(r[6] l[1]),A(r[1] l[2]),A(r[2] l[3]),A(r[3] l[4]),A(r[4] l[5]),A(r[5] l[6])'\n",
    "c = kamol.KappaComplex(kappa_ring)\n",
    "print(c.show())\n",
    "r = kaviz.Renderer(c)\n",
    "r.render(node_size=200)\n",
    "g = kagraph.KappaGraph(c)\n",
    "cycle = g.get_cycle()\n",
    "print(cycle)"
   ]
  },
  {
   "cell_type": "code",
   "execution_count": null,
   "metadata": {
    "pycharm": {
     "name": "#%%\n"
    }
   },
   "outputs": [],
   "source": [
    "r.color_edge_lists(edge_list=[cycle[:-1]], line_width=1, edge_color='red')"
   ]
  },
  {
   "cell_type": "code",
   "execution_count": null,
   "metadata": {
    "pycharm": {
     "name": "#%%\n"
    }
   },
   "outputs": [],
   "source": [
    "r.delete_edge_lists(edge_list=[cycle])"
   ]
  },
  {
   "cell_type": "code",
   "execution_count": null,
   "metadata": {
    "pycharm": {
     "name": "#%%\n"
    }
   },
   "outputs": [],
   "source": [
    "r.render(node_size=200)"
   ]
  },
  {
   "cell_type": "code",
   "execution_count": null,
   "metadata": {
    "pycharm": {
     "name": "#%%\n"
    }
   },
   "outputs": [],
   "source": [
    "data_dir='../KappaUtilities/TestData/'\n",
    "snapaxapc5 = kasnap.SnapShot(data_dir + 'snap_large.ka')\n",
    "\n",
    "c = {}\n",
    "w = {}\n",
    "for complx in snapaxapc5.complexes:\n",
    "    g = kagraph.KappaGraph(complx)\n",
    "    cycle = g.get_cycle()\n",
    "    if cycle:\n",
    "        if complx.size in c:\n",
    "            c[complx.size] += complx.count\n",
    "            w[complx.size].append(complx)\n",
    "        else:\n",
    "            c[complx.size] = complx.count\n",
    "            w[complx.size] = [complx]\n",
    "print(c)"
   ]
  },
  {
   "cell_type": "markdown",
   "metadata": {
    "pycharm": {
     "name": "#%% md\n"
    }
   },
   "source": [
    "##### rendering a complex (simple case)"
   ]
  },
  {
   "cell_type": "code",
   "execution_count": null,
   "metadata": {
    "pycharm": {
     "name": "#%%\n"
    }
   },
   "outputs": [],
   "source": [
    "c21 = w[21][0]\n",
    "r = kaviz.Renderer(c21)"
   ]
  },
  {
   "cell_type": "code",
   "execution_count": null,
   "outputs": [],
   "source": [
    "g21 = kagraph.KappaGraph(c21)"
   ],
   "metadata": {
    "collapsed": false,
    "pycharm": {
     "name": "#%%\n"
    }
   }
  },
  {
   "cell_type": "code",
   "execution_count": null,
   "metadata": {
    "pycharm": {
     "name": "#%%\n"
    }
   },
   "outputs": [],
   "source": [
    "nx.get_edge_attributes(g21.nxGraph,'bond')"
   ]
  },
  {
   "cell_type": "code",
   "execution_count": null,
   "metadata": {
    "pycharm": {
     "name": "#%%\n"
    }
   },
   "outputs": [],
   "source": [
    "r.render()"
   ]
  },
  {
   "cell_type": "code",
   "execution_count": null,
   "metadata": {
    "pycharm": {
     "name": "#%%\n"
    }
   },
   "outputs": [],
   "source": [
    "g21_cyc = g21.get_cycle()"
   ]
  },
  {
   "cell_type": "code",
   "execution_count": null,
   "metadata": {
    "pycharm": {
     "name": "#%%\n"
    }
   },
   "outputs": [],
   "source": [
    "r.color_edge_lists(edge_list=g21_cyc, line_width=2, edge_color='red')"
   ]
  },
  {
   "cell_type": "code",
   "execution_count": null,
   "metadata": {
    "pycharm": {
     "name": "#%%\n"
    }
   },
   "outputs": [],
   "source": [
    "center = nx.center(g21.nxGraph)\n",
    "print(center)"
   ]
  },
  {
   "cell_type": "code",
   "execution_count": null,
   "metadata": {
    "pycharm": {
     "name": "#%%\n"
    }
   },
   "outputs": [],
   "source": [
    "radius = nx.radius(g21.nxGraph)\n",
    "print(radius)"
   ]
  },
  {
   "cell_type": "code",
   "execution_count": null,
   "metadata": {
    "pycharm": {
     "name": "#%%\n"
    }
   },
   "outputs": [],
   "source": [
    "r.color_node_list(center, color='g', line_width=3)"
   ]
  },
  {
   "cell_type": "markdown",
   "metadata": {
    "pycharm": {
     "name": "#%% md\n"
    }
   },
   "source": [
    "##### A more complicated mixture and larger complex"
   ]
  },
  {
   "cell_type": "code",
   "execution_count": null,
   "metadata": {
    "pycharm": {
     "name": "#%%\n"
    }
   },
   "outputs": [],
   "source": [
    "data_dir='../KappaUtilities/TestData/'\n",
    "snapaxapc6 = kasnap.SnapShot(data_dir + 'snap__1784.ka')\n",
    "snapaxapc6_df = pd.DataFrame(snapaxapc6.get_size_distribution(dictionary=True))\n",
    "c = {}\n",
    "w = {}\n",
    "for complx in snapaxapc6.complexes:\n",
    "    g = kagraph.KappaGraph(complx)\n",
    "    cycle = g.get_cycle()\n",
    "    if cycle:\n",
    "        if complx.size in c:\n",
    "            c[complx.size] += complx.count\n",
    "            w[complx.size].append(complx)\n",
    "        else:\n",
    "            c[complx.size] = complx.count\n",
    "            w[complx.size] = [complx]\n",
    "print(c)"
   ]
  },
  {
   "cell_type": "code",
   "execution_count": null,
   "metadata": {
    "pycharm": {
     "name": "#%%\n"
    }
   },
   "outputs": [],
   "source": [
    "c = w[310][0]"
   ]
  },
  {
   "cell_type": "code",
   "execution_count": null,
   "metadata": {
    "pycharm": {
     "name": "#%%\n"
    }
   },
   "outputs": [],
   "source": [
    "r2 = kaviz.Renderer(c)"
   ]
  },
  {
   "cell_type": "code",
   "execution_count": null,
   "metadata": {
    "pycharm": {
     "name": "#%%\n"
    }
   },
   "outputs": [],
   "source": [
    "r2.render(node_size=15, line_width=0.5, edge_color='gray', labels='')"
   ]
  },
  {
   "cell_type": "markdown",
   "metadata": {
    "pycharm": {
     "name": "#%% md\n"
    }
   },
   "source": [
    "##### the delete methods of Renderer do not modify the underlying graph but only its display"
   ]
  },
  {
   "cell_type": "code",
   "execution_count": null,
   "metadata": {
    "pycharm": {
     "name": "#%%\n"
    }
   },
   "outputs": [],
   "source": [
    "basis, n = r2.graph.get_cycle_basis()"
   ]
  },
  {
   "cell_type": "code",
   "execution_count": null,
   "metadata": {
    "pycharm": {
     "name": "#%%\n"
    }
   },
   "outputs": [],
   "source": [
    "r2.color_edge_lists(edge_list=basis[1], line_width=2, edge_color='yellow')"
   ]
  },
  {
   "cell_type": "code",
   "execution_count": null,
   "metadata": {
    "pycharm": {
     "name": "#%%\n"
    }
   },
   "outputs": [],
   "source": [
    "r2.delete_edge_lists(edge_list=basis[1])"
   ]
  },
  {
   "cell_type": "code",
   "execution_count": null,
   "metadata": {
    "pycharm": {
     "name": "#%%\n"
    }
   },
   "outputs": [],
   "source": [
    "# restore\n",
    "r2.render(node_size=10, line_width=0.5, edge_color='gray', labels='')"
   ]
  },
  {
   "cell_type": "code",
   "execution_count": null,
   "metadata": {
    "pycharm": {
     "name": "#%%\n"
    }
   },
   "outputs": [],
   "source": [
    "r2.color_edge_lists(edge_list=basis, line_width=0.5, edge_color='yellow')"
   ]
  },
  {
   "cell_type": "code",
   "execution_count": null,
   "metadata": {
    "pycharm": {
     "name": "#%%\n"
    }
   },
   "outputs": [],
   "source": [
    "center = nx.center(r2.nx_graph)"
   ]
  },
  {
   "cell_type": "code",
   "execution_count": null,
   "metadata": {
    "pycharm": {
     "name": "#%%\n"
    }
   },
   "outputs": [],
   "source": [
    "r2.color_node_list(node_list=center, color='yellow', line_width=5)"
   ]
  },
  {
   "cell_type": "code",
   "execution_count": null,
   "metadata": {
    "pycharm": {
     "name": "#%%\n"
    }
   },
   "outputs": [],
   "source": [
    "r2.delete_node_list(node_list=center)"
   ]
  },
  {
   "cell_type": "markdown",
   "metadata": {
    "pycharm": {
     "name": "#%% md\n"
    }
   },
   "source": [
    "To modify the networkx-graph representation of the complex act through nxGraph."
   ]
  },
  {
   "cell_type": "code",
   "execution_count": null,
   "metadata": {
    "pycharm": {
     "name": "#%%\n"
    }
   },
   "outputs": [],
   "source": [
    "r2.graph.delete_node_list(node_list=center)"
   ]
  },
  {
   "cell_type": "markdown",
   "metadata": {
    "pycharm": {
     "name": "#%% md\n"
    }
   },
   "source": [
    "Make a copy of the renderer of the original graph (to preserve display settings like type-coloring). This will also get you a new figure object to play with."
   ]
  },
  {
   "cell_type": "code",
   "execution_count": null,
   "metadata": {
    "pycharm": {
     "name": "#%%\n"
    }
   },
   "outputs": [],
   "source": [
    "r2.layout()"
   ]
  },
  {
   "cell_type": "code",
   "execution_count": null,
   "metadata": {
    "pycharm": {
     "name": "#%%\n"
    }
   },
   "outputs": [],
   "source": [
    "r2.render(node_size=10, line_width=0.5, edge_color='gray', labels='')"
   ]
  },
  {
   "cell_type": "markdown",
   "metadata": {
    "pycharm": {
     "name": "#%% md\n"
    }
   },
   "source": [
    "## kaplot"
   ]
  },
  {
   "cell_type": "code",
   "execution_count": null,
   "outputs": [],
   "source": [
    "file = '../SiteSim/TestOutput/output.csv'\n",
    "df = pd.read_csv(file)"
   ],
   "metadata": {
    "collapsed": false,
    "pycharm": {
     "name": "#%%\n"
    }
   }
  },
  {
   "cell_type": "code",
   "execution_count": null,
   "outputs": [],
   "source": [
    "file = '/Users/wf7/Desktop/output.csv'\n",
    "df2 = pd.read_csv(file)"
   ],
   "metadata": {
    "collapsed": false,
    "pycharm": {
     "name": "#%%\n"
    }
   }
  },
  {
   "cell_type": "code",
   "execution_count": null,
   "outputs": [],
   "source": [
    "df.columns"
   ],
   "metadata": {
    "collapsed": false,
    "pycharm": {
     "name": "#%%\n"
    }
   }
  },
  {
   "cell_type": "code",
   "execution_count": null,
   "outputs": [],
   "source": [
    "p1 = kaplot.XY_plot()\n",
    "p1.add(df, x='?S(a[#] b[#])', y=' A(s[1]) B(s[2]) S(a[1] b[2])', xmajor=100, ymajor=100, params={'linestyle': '-', 'linewidth': 2, 'marker': ',', 'markersize': 0.})\n",
    "p1.add(df2, x='S', y='ASB', xmajor=100, ymajor=100, params={'linestyle': '-', 'color': 'g', 'linewidth': 2, 'marker': ',', 'markersize': 0.})"
   ],
   "metadata": {
    "collapsed": false,
    "pycharm": {
     "name": "#%%\n"
    }
   }
  },
  {
   "cell_type": "code",
   "execution_count": null,
   "metadata": {
    "pycharm": {
     "name": "#%%\n"
    }
   },
   "outputs": [],
   "source": [
    "# help(cmd.rename)\n",
    "# cmd.rename(dir=data_dir, root='snap__')\n",
    "\n",
    "snap1 = kasnap.SnapShot(data_dir + 'snap__98.ka')\n",
    "sd_df1 = pd.DataFrame(snap1.get_size_distribution(dictionary=True))\n",
    "\n",
    "snap2 = kasnap.SnapShot(data_dir + 'snap__90.ka')\n",
    "sd_df2 = pd.DataFrame(snap2.get_size_distribution(dictionary=True))\n",
    "\n",
    "snap3 = kasnap.SnapShot(data_dir + 'snap__20.ka')\n",
    "sd_df3 = pd.DataFrame(snap3.get_size_distribution(dictionary=True))\n",
    "\n",
    "p1 = kaplot.XY_plot()\n",
    "p1.add(sd_df1, xmajor=2, ymajor=2000, params={'linestyle': '-', 'label': 'snap98', 'color': 'g', 'markerfacecolor': 'y'})\n",
    "p1.add(sd_df2, xmajor=2, ymajor=2000, params={'linestyle': '-', 'label': 'snap90', 'color': 'g', 'markerfacecolor': 'g'})\n",
    "p1.add(sd_df3, xmajor=2, ymajor=2000, params={'linestyle': '-', 'label': 'snap20', 'color': 'b', 'markerfacecolor': 'b'})\n",
    "p1.ax.legend()\n",
    "kaplot.show()"
   ]
  }
 ],
 "metadata": {
  "kernelspec": {
   "display_name": "Python 3",
   "language": "python",
   "name": "python3"
  },
  "language_info": {
   "codemirror_mode": {
    "name": "ipython",
    "version": 3
   },
   "file_extension": ".py",
   "mimetype": "text/x-python",
   "name": "python",
   "nbconvert_exporter": "python",
   "pygments_lexer": "ipython3",
   "version": "3.8.9"
  },
  "toc": {
   "base_numbering": 1,
   "nav_menu": {},
   "number_sections": true,
   "sideBar": true,
   "skip_h1_title": false,
   "title_cell": "Table of Contents",
   "title_sidebar": "Contents",
   "toc_cell": false,
   "toc_position": {},
   "toc_section_display": true,
   "toc_window_display": false
  }
 },
 "nbformat": 4,
 "nbformat_minor": 4
}