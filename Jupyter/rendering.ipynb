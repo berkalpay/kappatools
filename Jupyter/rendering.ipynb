{
 "cells": [
  {
   "cell_type": "code",
   "execution_count": null,
   "metadata": {},
   "outputs": [],
   "source": [
    "%load_ext autoreload\n",
    "%autoreload 2"
   ]
  },
  {
   "cell_type": "code",
   "execution_count": null,
   "metadata": {},
   "outputs": [],
   "source": [
    "%matplotlib inline\n",
    "# %matplotlib widget\n",
    "# import matplotlib as mpl\n",
    "# import matplotlib.backends.backend_pdf\n",
    "# import matplotlib.pyplot as plt\n",
    "# import xlsxwriter as xlsx\n",
    "\n",
    "import kagraph\n",
    "import kaviz as viz\n",
    "import kamol\n",
    "import kasnap\n",
    "import networkx as nx\n",
    "from yfiles_jupyter_graphs import GraphWidget"
   ]
  },
  {
   "cell_type": "code",
   "execution_count": null,
   "metadata": {},
   "outputs": [],
   "source": [
    "from IPython.display import display, HTML\n",
    "display(HTML(\"<style>.container { width:100% !important; }>/style>\"))\n",
    "display(HTML(\"<style>.output_result { max-width:100% !important; }>/style>\"))"
   ]
  },
  {
   "cell_type": "markdown",
   "metadata": {},
   "source": [
    "adjust these as needed"
   ]
  },
  {
   "cell_type": "code",
   "execution_count": null,
   "metadata": {},
   "outputs": [],
   "source": [
    "def custom_node_color_mapping(index, node):\n",
    "    kind = node.get('properties', {}).get('type', 'None')\n",
    "    match kind:\n",
    "        case 'A':\n",
    "            color = 'green'\n",
    "        case 'P':\n",
    "            color = 'red'\n",
    "        case _:\n",
    "            color = 'lightgrey'\n",
    "    return color"
   ]
  },
  {
   "cell_type": "code",
   "execution_count": null,
   "metadata": {},
   "outputs": [],
   "source": [
    "def custom_edge_color_mapping(index, edge):\n",
    "    info = edge.get('properties', {}).get('bond', 'None')\n",
    "    # info = a1 + '@' + s1 + '--' + a2 + '@' + s2\n",
    "    sites = info.split('--')\n",
    "    agent1, _ = kamol.get_identifier(sites[0].split('@')[0])\n",
    "    agent2, _ = kamol.get_identifier(sites[1].split('@')[0])\n",
    "    agent_pair = sorted((agent1, agent2))\n",
    "    match agent_pair:\n",
    "        case ('A', 'A'):\n",
    "            color = 'green'\n",
    "        case ('A', 'P'):\n",
    "            color = 'blue'\n",
    "        case ('P', 'P'):\n",
    "            color = 'red'\n",
    "        case _:\n",
    "            color = 'lightgrey'\n",
    "    return color"
   ]
  },
  {
   "cell_type": "code",
   "execution_count": null,
   "metadata": {},
   "outputs": [],
   "source": [
    "def custom_edge_thickness_mapping(index, edge):\n",
    "    return 2"
   ]
  },
  {
   "cell_type": "code",
   "execution_count": null,
   "metadata": {},
   "outputs": [],
   "source": [
    "def custom_node_label_mapping(index, node):\n",
    "    return ''\n",
    "#     return node.get('properties', {}).get('id', 'None')"
   ]
  },
  {
   "cell_type": "code",
   "execution_count": null,
   "metadata": {},
   "outputs": [],
   "source": [
    "def custom_node_label_mapping_to_name(index, node):\n",
    "    kind = node.get('properties', {}).get('type', 'None')\n",
    "    return kind"
   ]
  },
  {
   "cell_type": "code",
   "execution_count": null,
   "metadata": {},
   "outputs": [],
   "source": [
    "def custom_node_styles_mapping(index, node):\n",
    "    style = {'shape': 'ellipse'}\n",
    "    # kind = node.get('properties', {}).get('type', 'None')\n",
    "    # match kind:\n",
    "    #     case 'A':\n",
    "    #         style['shape'] = 'rectangle'\n",
    "    #     case 'P':\n",
    "    #         style['shape'] = 'ellipse'\n",
    "    #     case _:\n",
    "    #         style['shape'] = 'triangle'\n",
    "    return style"
   ]
  },
  {
   "cell_type": "code",
   "execution_count": null,
   "metadata": {},
   "outputs": [],
   "source": [
    "def custom_node_scale_mapping(index, node):\n",
    "    return 1."
   ]
  },
  {
   "cell_type": "markdown",
   "metadata": {},
   "source": [
    "----\n",
    "rendering"
   ]
  },
  {
   "cell_type": "code",
   "execution_count": null,
   "metadata": {},
   "outputs": [],
   "source": [
    "w = GraphWidget()\n",
    "w.organic_layout()\n",
    "w.set_node_color_mapping(custom_node_color_mapping)\n",
    "w.set_node_label_mapping(custom_node_label_mapping)\n",
    "# w.set_node_label_mapping(custom_node_label_mapping_to_name)\n",
    "w.set_node_styles_mapping(custom_node_styles_mapping)\n",
    "w.set_node_scale_factor_mapping(custom_node_scale_mapping)\n",
    "w.set_edge_color_mapping(custom_edge_color_mapping)\n",
    "w.set_edge_thickness_factor_mapping(custom_edge_thickness_mapping)\n",
    "w.set_sidebar(enabled=False)"
   ]
  },
  {
   "cell_type": "code",
   "execution_count": null,
   "metadata": {},
   "outputs": [],
   "source": [
    "snap_directory = '/Users/wf7/Desktop/-CombiFluids/Work/zScaffolding/Models/AP/Aw-APm-E5-Pd/Rescaled/rs1/1/'"
   ]
  },
  {
   "cell_type": "code",
   "execution_count": null,
   "metadata": {},
   "outputs": [],
   "source": [
    "snap = kasnap.SnapShot(snap_directory + 'snap__2250.ka')\n",
    "# sort complexes with decreasing size\n",
    "snap.complexes.sort(key=lambda m: m.size, reverse=True)\n",
    "print(f'{len(snap.complexes)} molecular species')"
   ]
  },
  {
   "cell_type": "code",
   "execution_count": null,
   "metadata": {},
   "outputs": [],
   "source": [
    "K = kagraph.KappaGraph(snap.complexes[0])"
   ]
  },
  {
   "cell_type": "code",
   "execution_count": null,
   "metadata": {
    "pycharm": {
     "is_executing": true
    }
   },
   "outputs": [],
   "source": [
    "# import from networkx graph\n",
    "w.import_graph(K.nxGraph)\n",
    "w.show()"
   ]
  },
  {
   "cell_type": "markdown",
   "source": [
    "--- yEd file"
   ],
   "metadata": {
    "collapsed": false
   }
  },
  {
   "cell_type": "code",
   "execution_count": null,
   "outputs": [],
   "source": [
    "snap_directory = '/Users/wf7/Desktop/-CombiFluids/Work/zScaffolding/Models/AP/Aw-APm-E5-Pd/Rescaled/rs1/1/'"
   ],
   "metadata": {
    "collapsed": false
   }
  },
  {
   "cell_type": "code",
   "execution_count": null,
   "outputs": [],
   "source": [
    "output_directory = '/Users/wf7/Desktop/'"
   ],
   "metadata": {
    "collapsed": false
   }
  },
  {
   "cell_type": "code",
   "execution_count": null,
   "outputs": [],
   "source": [
    "snap = kasnap.SnapShot(snap_directory + 'snap__1786.ka')\n",
    "# sort complexes with decreasing size\n",
    "snap.complexes.sort(key=lambda m: m.size, reverse=True)\n",
    "print(f'{len(snap.complexes)} molecular species')"
   ],
   "metadata": {
    "collapsed": false
   }
  },
  {
   "cell_type": "code",
   "execution_count": null,
   "metadata": {},
   "outputs": [],
   "source": [
    "viz.make_yfile(snap.complexes[0], output_directory + 'test.xlsx')"
   ]
  }
 ],
 "metadata": {
  "kernelspec": {
   "display_name": "Python 3 (ipykernel)",
   "language": "python",
   "name": "python3"
  },
  "language_info": {
   "codemirror_mode": {
    "name": "ipython",
    "version": 3
   },
   "file_extension": ".py",
   "mimetype": "text/x-python",
   "name": "python",
   "nbconvert_exporter": "python",
   "pygments_lexer": "ipython3",
   "version": "3.11.1"
  },
  "toc": {
   "base_numbering": 1,
   "nav_menu": {},
   "number_sections": true,
   "sideBar": true,
   "skip_h1_title": false,
   "title_cell": "Table of Contents",
   "title_sidebar": "Contents",
   "toc_cell": false,
   "toc_position": {},
   "toc_section_display": true,
   "toc_window_display": false
  }
 },
 "nbformat": 4,
 "nbformat_minor": 1
}
